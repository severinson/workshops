{
 "cells": [
  {
   "cell_type": "markdown",
   "metadata": {},
   "source": [
    "# Day 1 - Loading Data and Plotting\n",
    "* This session we're going to focus on vislizing data.\n",
    "\n",
    "## Pyplot\n",
    "* `matplotlib.pyplot` is the most commonly used plotting framework in Python. It's versatile and powerful enough to create publication-grade figures via exporting to Latex code.\n",
    "* First, we're going to create a plot with a few curves to try out the different plotting options. Like in Matlab you control the line type, color etc. using a format string.\n",
    "    * Colors: https://matplotlib.org/2.0.2/api/colors_api.html\n",
    "    * Markers: https://matplotlib.org/api/markers_api.html\n",
    "    * Line styles: https://matplotlib.org/gallery/lines_bars_and_markers/line_styles_reference.html\n",
    "    "
   ]
  },
  {
   "cell_type": "code",
   "execution_count": null,
   "metadata": {},
   "outputs": [],
   "source": [
    "# needed to use matplotlib in Jupyter notebooks\n",
    "%matplotlib inline\n",
    "\n",
    "import matplotlib.pyplot as plt # usually abbreviated plt\n",
    "plt.style.use('ggplot') # any R fanatics?\n",
    "data = [1, 2, 3, 4, 5]\n",
    "plt.figure()\n",
    "plt.plot(data, 'b*')\n",
    "plt.plot(data, 'r-')\n",
    "plt.xlabel(\"x\")\n",
    "plt.ylabel(\"y\")\n",
    "plt.title(\"Interesting Data\")"
   ]
  },
  {
   "cell_type": "markdown",
   "metadata": {},
   "source": [
    "## Numpy\n",
    "* Numpy is a numerical computing library for Python. It basically brings the vector and matrix functionality of Matlab into Python."
   ]
  },
  {
   "cell_type": "code",
   "execution_count": null,
   "metadata": {},
   "outputs": [],
   "source": [
    "import numpy as np # numpy is usually abbreviated np\n",
    "data = np.array([1, 2, 3, 4, 5]) # convert a list to a numpy array\n",
    "\n",
    "# once converted to a numpy array we can do all sorts of useful stuff,\n",
    "# e.g., computing its sum of performing linear algebra computations.\n",
    "print(data.sum())\n",
    "print(data + 1)\n",
    "print(data * 2)\n",
    "\n",
    "# we can also use it to plot like before.\n",
    "plt.figure()\n",
    "plt.plot(data, 'b*')\n",
    "plt.plot(data/2, 'r-') # note the /2\n",
    "plt.xlabel(\"x\")\n",
    "plt.ylabel(\"y\")\n",
    "plt.title(\"Interesting Data\")\n",
    "plt.grid()"
   ]
  },
  {
   "cell_type": "markdown",
   "metadata": {},
   "source": [
    "## Loading data from disk"
   ]
  },
  {
   "cell_type": "code",
   "execution_count": null,
   "metadata": {},
   "outputs": [],
   "source": [
    "filename = 'rain.csv'\n",
    "rain = np.loadtxt(filename)\n",
    "print(f'loaded rain data for {len(rain)} days')\n",
    "# print(rain)\n",
    "plt.figure()\n",
    "# plt.hist(rain, 50)\n",
    "plt.plot(rain, '.')"
   ]
  },
  {
   "cell_type": "markdown",
   "metadata": {},
   "source": [
    "## Scipy\n",
    "* Scipy is a scientific computing library. It contains most mathematical functions we want to apply to arrays."
   ]
  },
  {
   "cell_type": "code",
   "execution_count": null,
   "metadata": {},
   "outputs": [],
   "source": [
    "import scipy as sp # scipy is usually abbreviated sp\n",
    "plt.figure()\n",
    "\n",
    "x = np.array([1, 2, 3, 4, 5]) # convert a list to a numpy array\n",
    "y = sp.sin(x)\n",
    "plt.plot(x, y, '*')\n",
    "\n",
    "x = np.linspace(0, 5) # linspace like in Matlab\n",
    "y = sp.sin(x)\n",
    "plt.plot(x, y)\n",
    "\n",
    "plt.grid()"
   ]
  }
 ],
 "metadata": {
  "@webio": {
   "lastCommId": "10b2324e86364c22aeeab9285f95d9c8",
   "lastKernelId": "bf328ae4-696d-4e02-bfa7-0ecde67a8003"
  },
  "kernelspec": {
   "display_name": "Python 3",
   "language": "python",
   "name": "python3"
  },
  "language_info": {
   "codemirror_mode": {
    "name": "ipython",
    "version": 3
   },
   "file_extension": ".py",
   "mimetype": "text/x-python",
   "name": "python",
   "nbconvert_exporter": "python",
   "pygments_lexer": "ipython3",
   "version": "3.6.5"
  }
 },
 "nbformat": 4,
 "nbformat_minor": 2
}
